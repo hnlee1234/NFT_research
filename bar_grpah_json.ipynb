{
  "nbformat": 4,
  "nbformat_minor": 0,
  "metadata": {
    "colab": {
      "name": "bar_grpah_json.ipynb",
      "provenance": [],
      "collapsed_sections": [],
      "authorship_tag": "ABX9TyOj4mf/Jz/Grdfzfu0g2t9/",
      "include_colab_link": true
    },
    "kernelspec": {
      "name": "python3",
      "display_name": "Python 3"
    },
    "language_info": {
      "name": "python"
    }
  },
  "cells": [
    {
      "cell_type": "markdown",
      "metadata": {
        "id": "view-in-github",
        "colab_type": "text"
      },
      "source": [
        "<a href=\"https://colab.research.google.com/github/hnlee1234/NFT_research/blob/main/bar_grpah_json.ipynb\" target=\"_parent\"><img src=\"https://colab.research.google.com/assets/colab-badge.svg\" alt=\"Open In Colab\"/></a>"
      ]
    },
    {
      "cell_type": "code",
      "execution_count": null,
      "metadata": {
        "colab": {
          "base_uri": "https://localhost:8080/",
          "height": 248
        },
        "id": "9THln4LdJGrz",
        "outputId": "0ad2b23e-eef2-432e-dc19-40f5e59edef1"
      },
      "outputs": [
        {
          "output_type": "error",
          "ename": "AttributeError",
          "evalue": "ignored",
          "traceback": [
            "\u001b[0;31m---------------------------------------------------------------------------\u001b[0m",
            "\u001b[0;31mAttributeError\u001b[0m                            Traceback (most recent call last)",
            "\u001b[0;32m<ipython-input-17-44400c7508ee>\u001b[0m in \u001b[0;36m<module>\u001b[0;34m()\u001b[0m\n\u001b[1;32m     13\u001b[0m \u001b[0;34m\u001b[0m\u001b[0m\n\u001b[1;32m     14\u001b[0m \u001b[0;31m#dictionary = json.load(open('collection_top100_day_parsed.json', 'r'))\u001b[0m\u001b[0;34m\u001b[0m\u001b[0;34m\u001b[0m\u001b[0;34m\u001b[0m\u001b[0m\n\u001b[0;32m---> 15\u001b[0;31m \u001b[0mxAxis\u001b[0m \u001b[0;34m=\u001b[0m \u001b[0;34m[\u001b[0m\u001b[0mcontractName\u001b[0m \u001b[0;32mfor\u001b[0m \u001b[0mcontractName\u001b[0m\u001b[0;34m,\u001b[0m \u001b[0mvalue\u001b[0m \u001b[0;32min\u001b[0m \u001b[0mdata\u001b[0m\u001b[0;34m.\u001b[0m\u001b[0mitems\u001b[0m\u001b[0;34m(\u001b[0m\u001b[0;34m)\u001b[0m\u001b[0;34m]\u001b[0m\u001b[0;34m\u001b[0m\u001b[0;34m\u001b[0m\u001b[0m\n\u001b[0m\u001b[1;32m     16\u001b[0m \u001b[0myAxis\u001b[0m \u001b[0;34m=\u001b[0m \u001b[0;34m[\u001b[0m\u001b[0mvalue\u001b[0m \u001b[0;32mfor\u001b[0m \u001b[0mcontractName\u001b[0m\u001b[0;34m,\u001b[0m \u001b[0mvalue\u001b[0m \u001b[0;32min\u001b[0m \u001b[0mdata\u001b[0m\u001b[0;34m.\u001b[0m\u001b[0mitems\u001b[0m\u001b[0;34m(\u001b[0m\u001b[0;34m)\u001b[0m\u001b[0;34m]\u001b[0m\u001b[0;34m\u001b[0m\u001b[0;34m\u001b[0m\u001b[0m\n\u001b[1;32m     17\u001b[0m \u001b[0mplt\u001b[0m\u001b[0;34m.\u001b[0m\u001b[0mgrid\u001b[0m\u001b[0;34m(\u001b[0m\u001b[0;32mTrue\u001b[0m\u001b[0;34m)\u001b[0m\u001b[0;34m\u001b[0m\u001b[0;34m\u001b[0m\u001b[0m\n",
            "\u001b[0;31mAttributeError\u001b[0m: 'list' object has no attribute 'items'"
          ]
        }
      ],
      "source": [
        "import matplotlib.pyplot as plt\n",
        "import json\n",
        "\n",
        "fname = '/content/collection_top100_day.json'\n",
        "with open(fname, 'r') as f:\n",
        "      for line in f.readlines():\n",
        "        if line.startswith('{'):\n",
        "            try:\n",
        "                json.loads(line)\n",
        "            except json.JSONDecodeError as e:\n",
        "                print(e.msg, e)\n",
        "                print(repr(line))\n",
        "\n",
        "\"\"\"\n",
        "#dictionary = json.load(open('collection_top100_day_parsed.json', 'r'))\n",
        "xAxis = [contractName for contractName, value in data.items()]\n",
        "yAxis = [value for contractName, value in data.items()]\n",
        "plt.grid(True)\n",
        "\n",
        "## LINE GRAPH ##\n",
        "#plt.plot(xAxis,yAxis, color='maroon', marker='o')\n",
        "#plt.xlabel('variable')\n",
        "#plt.ylabel('value')\n",
        "\n",
        "## BAR GRAPH ##\n",
        "fig = plt.figure()\n",
        "plt.bar(xAxis,yAxis, color='maroon')\n",
        "plt.xlabel('name')\n",
        "plt.ylabel('value')\n",
        "\n",
        "plt.show()\n",
        "\"\"\""
      ]
    },
    {
      "cell_type": "code",
      "source": [
        ""
      ],
      "metadata": {
        "id": "3Esk23xpJYFc"
      },
      "execution_count": null,
      "outputs": []
    }
  ]
}